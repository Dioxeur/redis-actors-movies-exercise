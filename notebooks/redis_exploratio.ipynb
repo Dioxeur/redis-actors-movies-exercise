{
 "cells": [
  {
   "cell_type": "code",
   "execution_count": 1,
   "id": "029df0ca-dc28-4411-9cd3-d5956df7154e",
   "metadata": {},
   "outputs": [
    {
     "name": "stdout",
     "output_type": "stream",
     "text": [
      "Collecting redis\n",
      "  Downloading redis-6.0.0-py3-none-any.whl.metadata (10 kB)\n",
      "Downloading redis-6.0.0-py3-none-any.whl (268 kB)\n",
      "\u001b[2K   \u001b[90m━━━━━━━━━━━━━━━━━━━━━━━━━━━━━━━━━━━━━━━\u001b[0m \u001b[32m268.9/268.9 kB\u001b[0m \u001b[31m964.5 kB/s\u001b[0m eta \u001b[36m0:00:00\u001b[0ma \u001b[36m0:00:01\u001b[0m\n",
      "\u001b[?25hInstalling collected packages: redis\n",
      "Successfully installed redis-6.0.0\n"
     ]
    },
    {
     "data": {
      "text/plain": [
       "True"
      ]
     },
     "execution_count": 1,
     "metadata": {},
     "output_type": "execute_result"
    }
   ],
   "source": [
    "!pip install redis\n",
    "import redis\n",
    "\n",
    "# Connect to Redis\n",
    "r = redis.Redis(host='redis', port=6379, decode_responses=True)\n",
    "\n",
    "\n",
    "r.ping()"
   ]
  },
  {
   "cell_type": "code",
   "execution_count": 29,
   "id": "7c188953-e27d-46d9-aab4-1f7d3a232c20",
   "metadata": {},
   "outputs": [
    {
     "name": "stdout",
     "output_type": "stream",
     "text": [
      "{'first_name': 'Dakota', 'last_name': 'Fanning', 'date_of_birth': '1994'}\n",
      "Number of actors: 1320\n",
      "Number of movies: 922\n"
     ]
    }
   ],
   "source": [
    "# Get all actor keys\n",
    "actor_keys = r.keys(\"actor:*\")\n",
    "print(r.hgetall(actor_keys[0]))\n",
    "num_actors = len(actor_keys)\n",
    "print(f\"Number of actors: {num_actors}\")\n",
    "\n",
    "# Get all movie keys\n",
    "movie_keys = r.keys(\"movie:*\")\n",
    "num_movies = len(movie_keys)\n",
    "print(f\"Number of movies: {num_movies}\")"
   ]
  },
  {
   "cell_type": "code",
   "execution_count": 13,
   "id": "ffb001c0-615a-4f52-8bd0-34eb088986cf",
   "metadata": {},
   "outputs": [
    {
     "name": "stdout",
     "output_type": "stream",
     "text": [
      "Vin Diesel (Born: 1967)\n",
      "Tom Hanks (Born: 1956)\n",
      "Pascale Hutton (Born: 1979)\n",
      "Deanna Dunagan (Born: 1940)\n",
      "Stephanie Faracy (Born: 1952)\n"
     ]
    }
   ],
   "source": [
    "actors_born_before_1980 = []\n",
    "count = 0\n",
    "\n",
    "for actor_key in actor_keys:\n",
    "    actor_data = r.hgetall(actor_key)\n",
    "    if 'date_of_birth' in actor_data and int(actor_data['date_of_birth']) < 1980:\n",
    "        print(f\"{actor_data.get('first_name', '')} {actor_data.get('last_name', '')} (Born: {actor_data['date_of_birth']})\")\n",
    "        count += 1\n",
    "        if count >= 5:\n",
    "            break \n",
    "\n"
   ]
  },
  {
   "cell_type": "code",
   "execution_count": 14,
   "id": "5bbd0aa2-26b4-4950-990f-4f4785a1dd4d",
   "metadata": {},
   "outputs": [
    {
     "name": "stdout",
     "output_type": "stream",
     "text": [
      "Movie: The Imitation Game\n",
      "- Genre: Biography\n",
      "- Rating: 8.5\n"
     ]
    }
   ],
   "source": [
    "target_movie_title = \"The Imitation Game\"\n",
    "movie_found = False\n",
    "\n",
    "for movie_key in movie_keys:\n",
    "    movie_data = r.hgetall(movie_key)\n",
    "    if movie_data.get('title') == target_movie_title:\n",
    "        genre = movie_data.get('genre', 'N/A')\n",
    "        rating = movie_data.get('rating', 'N/A')\n",
    "        print(f\"Movie: {target_movie_title}\")\n",
    "        print(f\"- Genre: {genre}\")\n",
    "        print(f\"- Rating: {rating}\")\n",
    "        movie_found = True\n",
    "        break \n",
    "\n",
    "if not movie_found:\n",
    "    print(f\"Movie '{target_movie_title}' not found.\")"
   ]
  },
  {
   "cell_type": "code",
   "execution_count": 15,
   "id": "f145ce50-f49f-4979-bbf0-1cfd6d6c94b5",
   "metadata": {},
   "outputs": [
    {
     "name": "stdout",
     "output_type": "stream",
     "text": [
      "Top 5 highest-rated movies:\n",
      "1. Boy 9 (Rating: 9.4)\n",
      "2. Vegas (doc) (Rating: 9.4)\n",
      "3. The Shawshank Redemption (Rating: 9.3)\n",
      "4. Ween Live in Chicago (Rating: 9.2)\n",
      "5. Over Canada: An Aerial Adventure (Rating: 9.1)\n"
     ]
    }
   ],
   "source": [
    "all_movies_with_ratings = []\n",
    "\n",
    "\n",
    "for movie_key in movie_keys:\n",
    "    movie_data = r.hgetall(movie_key)\n",
    "    title = movie_data.get('title')\n",
    "    rating_str = movie_data.get('rating')\n",
    "    if title and rating_str:\n",
    "        rating = float(rating_str)\n",
    "        all_movies_with_ratings.append({'title': title, 'rating': rating})\n",
    "\n",
    "sorted_movies = sorted(all_movies_with_ratings, key=lambda x: x['rating'], reverse=True)\n",
    "\n",
    "print(\"Top 5 highest-rated movies:\")\n",
    "for i, movie in enumerate(sorted_movies[:5]):\n",
    "    print(f\"{i+1}. {movie['title']} (Rating: {movie['rating']})\")"
   ]
  },
  {
   "cell_type": "code",
   "execution_count": 6,
   "id": "9ff0d37b-5ef8-42f1-9bc3-ee085d81a3d2",
   "metadata": {},
   "outputs": [
    {
     "name": "stdout",
     "output_type": "stream",
     "text": [
      "Number of movies with a rating above 7.5: 183\n"
     ]
    }
   ],
   "source": [
    "count_movies_above_7_5 = 0\n",
    "\n",
    "for movie_key in movie_keys:\n",
    "    rating_str = r.hget(movie_key, 'rating')\n",
    "    if rating_str: \n",
    "        try:\n",
    "            rating = float(rating_str)\n",
    "            if rating > 7.5:\n",
    "                count_movies_above_7_5 += 1\n",
    "        except ValueError:\n",
    "            print(f\"Warning: Could not parse rating for movie key {movie_key}\")\n",
    "\n",
    "\n",
    "print(f\"Number of movies with a rating above 7.5: {count_movies_above_7_5}\")"
   ]
  },
  {
   "cell_type": "code",
   "execution_count": 20,
   "id": "1e2771d0-a005-4289-af20-8fa831d5333f",
   "metadata": {},
   "outputs": [
    {
     "name": "stdout",
     "output_type": "stream",
     "text": [
      "Rating for 'The Imitation Game' (key: movie:5) updated to 8.5.\n",
      "Verified new rating: 8.5\n"
     ]
    }
   ],
   "source": [
    "target_movie_title_update = \"The Imitation Game\"\n",
    "new_rating = \"8.5\" \n",
    "\n",
    "for movie_key in movie_keys:\n",
    "    if r.hget(movie_key, 'title') == target_movie_title_update:\n",
    "        r.hset(movie_key, 'rating', new_rating)\n",
    "        print(f\"Rating for '{target_movie_title_update}' (key: {movie_key}) updated to {new_rating}.\")\n",
    "\n",
    "    # Verify the update (optional, but good practice)\n",
    "        updated_data = r.hgetall(movie_key)\n",
    "        print(f\"Verified new rating: {updated_data.get('rating')}\")\n",
    "        break\n",
    "    \n",
    "   "
   ]
  },
  {
   "cell_type": "code",
   "execution_count": 21,
   "id": "498bbe52-574a-42e9-a698-eca27475aaf3",
   "metadata": {},
   "outputs": [
    {
     "name": "stdout",
     "output_type": "stream",
     "text": [
      "Added new actor: Zendaya, with key actor:1320\n",
      "Verified data for actor:1320: {'first_name': 'Zendaya', 'last_name': '', 'date_of_birth': '1996'}\n"
     ]
    }
   ],
   "source": [
    "max_id = 0\n",
    "\n",
    "for key in actor_keys:\n",
    "    try:\n",
    "        current_id = int(key.split(':')[1])\n",
    "        if current_id > max_id:\n",
    "            max_id = current_id\n",
    "    except (IndexError, ValueError):\n",
    "        print(f\"Warning: Could not parse ID from actor key: {key}\")\n",
    "\n",
    "new_actor_id = max_id + 1\n",
    "new_actor_key = f\"actor:{new_actor_id}\"\n",
    "\n",
    "\n",
    "new_actor_data = {\n",
    "    \"first_name\": \"Zendaya\",\n",
    "    \"last_name\": \"\", \n",
    "    \"date_of_birth\": 1996\n",
    "}\n",
    "\n",
    "r.hset(new_actor_key, mapping=new_actor_data)\n",
    "\n",
    "print(f\"Added new actor: Zendaya, with key {new_actor_key}\")\n",
    "\n",
    "# Verify \n",
    "retrieved_zendaya = r.hgetall(new_actor_key)\n",
    "print(f\"Verified data for {new_actor_key}: {retrieved_zendaya}\")"
   ]
  },
  {
   "cell_type": "code",
   "execution_count": 9,
   "id": "5f9296ca-deaa-44ce-8ecf-0b7a823a1a2d",
   "metadata": {},
   "outputs": [
    {
     "name": "stdout",
     "output_type": "stream",
     "text": [
      "Movie 'The Room' not found. Could not delete.\n"
     ]
    }
   ],
   "source": [
    "target_movie_title_delete = \"The Room\"\n",
    "movie_key_to_delete = None\n",
    "\n",
    "for movie_key in movie_keys:\n",
    "    if r.hget(movie_key, 'title') == target_movie_title_delete:\n",
    "        movie_key_to_delete = movie_key\n",
    "        break\n",
    "\n",
    "if movie_key_to_delete:\n",
    "    result = r.delete(movie_key_to_delete)\n",
    "    if result == 1: \n",
    "        print(f\"Movie '{target_movie_title_delete}' (key: {movie_key_to_delete}) has been deleted.\")\n",
    "        # Verify (optional)\n",
    "        if r.exists(movie_key_to_delete):\n",
    "            print(f\"Verification FAILED: Key {movie_key_to_delete} still exists.\")\n",
    "        else:\n",
    "            print(f\"Verification PASSED: Key {movie_key_to_delete} no longer exists.\")\n",
    "    else:\n",
    "        print(f\"Movie '{target_movie_title_delete}' (key: {movie_key_to_delete}) was targeted for deletion, but r.delete returned {result}.\")\n",
    "else:\n",
    "    print(f\"Movie '{target_movie_title_delete}' not found. Could not delete.\")"
   ]
  }
 ],
 "metadata": {
  "kernelspec": {
   "display_name": "Python 3 (ipykernel)",
   "language": "python",
   "name": "python3"
  },
  "language_info": {
   "codemirror_mode": {
    "name": "ipython",
    "version": 3
   },
   "file_extension": ".py",
   "mimetype": "text/x-python",
   "name": "python",
   "nbconvert_exporter": "python",
   "pygments_lexer": "ipython3",
   "version": "3.11.6"
  }
 },
 "nbformat": 4,
 "nbformat_minor": 5
}
